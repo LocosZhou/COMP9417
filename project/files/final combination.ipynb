{
 "cells": [
  {
   "cell_type": "code",
   "execution_count": 117,
   "metadata": {},
   "outputs": [],
   "source": [
    "import numpy as np\n",
    "import pandas as pd\n",
    "import operator\n",
    "from scipy.io import arff\n",
    "import matplotlib.pyplot as plt\n",
    "%matplotlib inline\n",
    "import seaborn as sns\n",
    "from scipy.stats import multivariate_normal\n",
    "from sklearn.model_selection import LeaveOneOut\n",
    "from sklearn.preprocessing import MinMaxScaler\n",
    "\n",
    "#from sklearn import datasets,linear_model"
   ]
  },
  {
   "cell_type": "code",
   "execution_count": 118,
   "metadata": {},
   "outputs": [],
   "source": [
    "data_io = arff.loadarff('ionosphere.arff')\n",
    "dataset_io = pd.DataFrame(data_io[0]).to_numpy()"
   ]
  },
  {
   "cell_type": "markdown",
   "metadata": {},
   "source": [
    "# 1) Distance measures"
   ]
  },
  {
   "cell_type": "markdown",
   "metadata": {},
   "source": [
    "Manhattan (L1)"
   ]
  },
  {
   "cell_type": "code",
   "execution_count": 119,
   "metadata": {},
   "outputs": [],
   "source": [
    "def manhattan_distance(x1, x2):\n",
    "    return np.sum(np.abs(x1 - x2))"
   ]
  },
  {
   "cell_type": "markdown",
   "metadata": {},
   "source": [
    "Euclidean (L2)\n"
   ]
  },
  {
   "cell_type": "code",
   "execution_count": 120,
   "metadata": {},
   "outputs": [],
   "source": [
    "def euclidean_distance(x1, x2):\n",
    "    diff = x1 - x2\n",
    "    return np.sqrt(np.dot(diff, diff))"
   ]
  },
  {
   "cell_type": "markdown",
   "metadata": {},
   "source": [
    "# 3)Numeric Prediction"
   ]
  },
  {
   "cell_type": "code",
   "execution_count": 121,
   "metadata": {},
   "outputs": [],
   "source": [
    "def sort_distance (attributes_train, attributes_test, target_train, cal_distan):\n",
    "    dist = []\n",
    "    for i  in range(0, len(attributes_train)):\n",
    "        if cal_distan == 'euclidean':\n",
    "            distance = euclidean_distance(attributes_train[i], attributes_test[0])\n",
    "        elif cal_distan == 'manhattan':\n",
    "            distance = manhattan_distance(attributes_train[i], attributes_test[0])\n",
    "        dist.append((distance, target_train[i]))\n",
    "    dist = sorted(dist, key=lambda d:d[0])\n",
    "    return dist"
   ]
  },
  {
   "cell_type": "code",
   "execution_count": 122,
   "metadata": {},
   "outputs": [],
   "source": [
    "def wnn_classify(k, attributes_train, attributes_test, target_train, target_test, cal_distan):\n",
    "    dist = sort_distance (attributes_train, attributes_test, target_train, cal_distan)\n",
    "    correct = 0\n",
    "    #To avoid total weights to be 0\n",
    "    total_weights = 0\n",
    "    total_correct = 0\n",
    "    for i in range(0, k):\n",
    "        if dist[i][0] == 0:\n",
    "            if dist[i][1] == target_test[0]:\n",
    "                total_correct += 1 / 0.0000000000000001 * 1\n",
    "            total_weights += 1 / 0.0000000000000001\n",
    "        else :\n",
    "            if dist[i][1] == target_test[0]:\n",
    "                total_correct += (1 / (dist[i][0])**2) * 1\n",
    "            total_weights += 1 / (dist[i][0])**2\n",
    "    if total_correct / total_weights > 0.5:\n",
    "        return 'correct'\n",
    "    else:\n",
    "        return 'wrong'"
   ]
  },
  {
   "cell_type": "code",
   "execution_count": 123,
   "metadata": {},
   "outputs": [],
   "source": [
    "def knn_classify(k, attributes_train, attributes_test, target_train, target_test, cal_distan):\n",
    "    dist = sort_distance (attributes_train, attributes_test, target_train, cal_distan)\n",
    "    correct = 0\n",
    "    for i in range(0, k):\n",
    "        if dist[i][1] == target_test[0]:\n",
    "            correct += 1\n",
    "    if correct / k > 0.5:\n",
    "        return 'correct'\n",
    "    else:\n",
    "        return 'wrong'"
   ]
  },
  {
   "cell_type": "code",
   "execution_count": 124,
   "metadata": {},
   "outputs": [],
   "source": [
    "def knn_predict(k, attributes_train, attributes_test, price_train, cal_distan):\n",
    "    dist = sort_distance (attributes_train, attributes_test, price_train, cal_distan)\n",
    "    sum = 0\n",
    "    for i in range(0, k):\n",
    "        sum = sum + dist[i][1]\n",
    "    return sum/k"
   ]
  },
  {
   "cell_type": "code",
   "execution_count": 125,
   "metadata": {},
   "outputs": [],
   "source": [
    "def wnn_predict(k, attributes_train, attributes_test, price_train, cal_distan):\n",
    "    dist = sort_distance (attributes_train, attributes_test, price_train, cal_distan)\n",
    "    #To avoid total weights to be 0\n",
    "    total_weights = 0\n",
    "    total_price = 0\n",
    "    for i in range(0, k):\n",
    "        if (dist[i][0] == 0):\n",
    "            total_price += 1 / 0.0000000000000001 * dist[i][1]\n",
    "            total_weights += 1 / 0.0000000000000001\n",
    "        else :\n",
    "            total_price += (1 / (dist[i][0])**2) * dist[i][1]\n",
    "            total_weights += 1 / (dist[i][0])**2\n",
    "    return total_price / total_weights"
   ]
  },
  {
   "cell_type": "code",
   "execution_count": 126,
   "metadata": {},
   "outputs": [],
   "source": [
    "def cross_validation_prediction(attributes_data, target_data,k, do_what, method, cal_distan):\n",
    "    loo = LeaveOneOut()\n",
    "    scaler = MinMaxScaler(feature_range=(0, 1))\n",
    "    scalar_attributes = scaler.fit_transform(attributes_data.astype(np.float))\n",
    "    if do_what == 'classify':\n",
    "        correct_num = 0\n",
    "    accuracy = []\n",
    "    #Transform attributes_data to integer scalar array\n",
    "    for train_index, test_index in loo.split(scalar_attributes):\n",
    "        attributes_train = scalar_attributes[train_index]\n",
    "        attributes_test = scalar_attributes[test_index]\n",
    "        target_train = target_data[train_index]\n",
    "        target_test = target_data[test_index]\n",
    "        if do_what == 'predict':\n",
    "            if method == 'knn':\n",
    "                predicted_price = knn_predict(k, attributes_train, attributes_test, target_train, cal_distan)\n",
    "            elif method == 'wnn':\n",
    "                predicted_price = wnn_predict(k, attributes_train, attributes_test, target_train, cal_distan)\n",
    "            accuracy.append(abs(predicted_price - target_test[0])/target_test[0])\n",
    "        elif do_what == 'classify':\n",
    "            if method == 'knn':\n",
    "                predicted_class = knn_classify(k, attributes_train, attributes_test, target_train, target_test, cal_distan)\n",
    "                if predicted_class == 'correct':\n",
    "                    correct_num += 1\n",
    "            elif method == 'wnn':\n",
    "                predicted_class = wnn_classify(k, attributes_train, attributes_test, target_train, target_test, cal_distan)\n",
    "                if predicted_class == 'correct':\n",
    "                    correct_num += 1\n",
    "            accuracy.append(1-(correct_num / (len(attributes_train)+len(attributes_test))))\n",
    "    if do_what == 'classify':\n",
    "        return np.min(accuracy)\n",
    "    elif do_what == 'predict':\n",
    "        return np.mean(accuracy)"
   ]
  },
  {
   "cell_type": "code",
   "execution_count": 127,
   "metadata": {},
   "outputs": [
    {
     "name": "stdout",
     "output_type": "stream",
     "text": [
      "Classification: Leave-one-out cross validation for KNN\n"
     ]
    },
    {
     "data": {
      "image/png": "[encoded data removed]",
      "text/plain": [
       "<Figure size 432x288 with 1 Axes>"
      ]
     },
     "metadata": {
      "needs_background": "light"
     },
     "output_type": "display_data"
    }
   ],
   "source": [
    "#read the file \n",
    "data_io = arff.loadarff('ionosphere.arff')  # dataset for implemention of classification\n",
    "data_classify = pd.DataFrame(data_io[0])\n",
    "class_data = data_classify['class'].values\n",
    "classify_attributes_data = data_classify.drop('class',axis = 1)\n",
    "print(\"Classification: Leave-one-out cross validation for KNN\")\n",
    "classify_knn_average_accuracy_euclidean = []\n",
    "classify_knn_average_accuracy_manhattan = []\n",
    "n = [1,3,5,7,9,11,13,15,17,19,21,23,25,27,29,31,33,35,37,39,41,43,45,47,49]\n",
    "for k in range(1,50,2):\n",
    "    accuracy_euclidean = cross_validation_prediction(classify_attributes_data, class_data,k,'classify', 'knn','euclidean')\n",
    "    classify_knn_average_accuracy_euclidean.append(accuracy_euclidean)\n",
    "    accuracy_manhattan = cross_validation_prediction(classify_attributes_data, class_data,k,'classify', 'knn','manhattan')\n",
    "    classify_knn_average_accuracy_manhattan.append(accuracy_manhattan)\n",
    "plt.plot(n,classify_knn_average_accuracy_euclidean, 'b-', label='euclidean')\n",
    "plt.plot(n,classify_knn_average_accuracy_manhattan,'r-', label='manhattan')\n",
    "plt.title('KNN Classification[g1]')\n",
    "plt.xlabel('k value')\n",
    "plt.ylabel('Error Rate')\n",
    "plt.legend()\n",
    "plt.show()"
   ]
  },
  {
   "cell_type": "code",
   "execution_count": 128,
   "metadata": {},
   "outputs": [
    {
     "name": "stdout",
     "output_type": "stream",
     "text": [
      "Classification: Leave-one-out cross validation for WNN\n"
     ]
    },
    {
     "data": {
      "image/png": "[encoded data removed]",
      "text/plain": [
       "<Figure size 432x288 with 1 Axes>"
      ]
     },
     "metadata": {
      "needs_background": "light"
     },
     "output_type": "display_data"
    }
   ],
   "source": [
    "print(\"Classification: Leave-one-out cross validation for WNN\")\n",
    "classify_wnn_average_accuracy_euclidean = []\n",
    "classify_wnn_average_accuracy_manhattan = []\n",
    "for k in range(1,51):\n",
    "    accuracy_euclidean = cross_validation_prediction(classify_attributes_data, class_data,k,'classify', 'wnn','euclidean')\n",
    "    classify_wnn_average_accuracy_euclidean.append(accuracy_euclidean)\n",
    "    accuracy_manhattan = cross_validation_prediction(classify_attributes_data, class_data,k,'classify', 'wnn','manhattan')\n",
    "    classify_wnn_average_accuracy_manhattan.append(accuracy_manhattan)\n",
    "plt.plot(classify_wnn_average_accuracy_euclidean, 'b-', label='euclidean')\n",
    "plt.plot(classify_wnn_average_accuracy_manhattan,'r-', label='manhattan')\n",
    "plt.legend()\n",
    "plt.title('WNN Classification(inverse distance^2)[g3]')\n",
    "plt.xlabel('k value')\n",
    "plt.ylabel('Error Rate')\n",
    "plt.show()"
   ]
  },
  {
   "cell_type": "code",
   "execution_count": 129,
   "metadata": {},
   "outputs": [
    {
     "name": "stdout",
     "output_type": "stream",
     "text": [
      "Numeric Prediction: Leave-one-out cross validation for KNN\n"
     ]
    },
    {
     "data": {
      "image/png": "[encoded data removed]",
      "text/plain": [
       "<Figure size 432x288 with 1 Axes>"
      ]
     },
     "metadata": {
      "needs_background": "light"
     },
     "output_type": "display_data"
    }
   ],
   "source": [
    "data_auto = arff.loadarff('autos.arff')\n",
    "data_predict = pd.DataFrame(data_auto[0])\n",
    "#Remove these attributes now, coz we only use 15 attributes to predict the price\n",
    "data_predict.drop(['make', 'fuel-type', 'aspiration', 'num-of-doors', 'body-style', \n",
    "                'drive-wheels', 'engine-location', 'engine-type', 'num-of-cylinders', \n",
    "                'fuel-system', 'normalized-losses'], axis=1, inplace=True)\n",
    "# Remove examples with unknown \"?\"\n",
    "filtered = data_predict.dropna()\n",
    "filtered = data_predict.dropna(how = 'any')\n",
    "\n",
    "price_data = filtered['price'].values\n",
    "predict_attributes_data = filtered.drop('price',axis = 1)\n",
    "print(\"Numeric Prediction: Leave-one-out cross validation for KNN\")\n",
    "#sqrt(example) is approx 12\n",
    "predict_knn_average_accuracy_manhattan = []\n",
    "predict_knn_average_accuracy_euclidean = []\n",
    "for k in range(1,21):\n",
    "    accuracy_manhattan = cross_validation_prediction(predict_attributes_data, price_data,k,'predict', 'knn','manhattan')\n",
    "    predict_knn_average_accuracy_manhattan.append(accuracy_manhattan)\n",
    "    accuracy_euclidean = cross_validation_prediction(predict_attributes_data, price_data,k,'predict', 'knn','euclidean')\n",
    "    predict_knn_average_accuracy_euclidean.append(accuracy_euclidean)\n",
    "plt.plot(predict_knn_average_accuracy_euclidean, 'b-', label='euclidean')\n",
    "plt.plot(predict_knn_average_accuracy_manhattan, 'r-', label='manhattan')\n",
    "plt.legend()\n",
    "plt.title('KNN Numeric Prediction[g1]')\n",
    "plt.xlabel('k value')\n",
    "plt.ylabel('Percent Average Deviation Error')\n",
    "plt.show()"
   ]
  },
  {
   "cell_type": "code",
   "execution_count": 130,
   "metadata": {},
   "outputs": [
    {
     "name": "stdout",
     "output_type": "stream",
     "text": [
      "Numeric Prediction: Leave-one-out cross validation for WNN\n"
     ]
    },
    {
     "data": {
      "image/png": "[encoded data removed]",
      "text/plain": [
       "<Figure size 432x288 with 1 Axes>"
      ]
     },
     "metadata": {
      "needs_background": "light"
     },
     "output_type": "display_data"
    }
   ],
   "source": [
    "print(\"Numeric Prediction: Leave-one-out cross validation for WNN\")\n",
    "#sqrt(example) is approx 12\n",
    "predict_wnn_average_accuracy_manhattan = []\n",
    "predict_wnn_average_accuracy_euclidean = []\n",
    "for k in range(1,21):\n",
    "    accuracy_manhattan = cross_validation_prediction(predict_attributes_data, price_data,k,'predict','wnn', 'manhattan')\n",
    "    predict_wnn_average_accuracy_manhattan.append(accuracy_manhattan)\n",
    "    accuracy_euclidean = cross_validation_prediction(predict_attributes_data, price_data,k,'predict','wnn', 'euclidean')\n",
    "    predict_wnn_average_accuracy_euclidean.append(accuracy_euclidean)\n",
    "plt.plot(predict_wnn_average_accuracy_euclidean, 'b-', label='euclidean')\n",
    "plt.plot(predict_wnn_average_accuracy_manhattan, 'r-', label='manhattan')\n",
    "plt.title('WNN Numeric Prediction(inverse distance^2)[g3]')\n",
    "plt.xlabel('k value')\n",
    "plt.ylabel('Percent Average Deviation Error')\n",
    "plt.legend()\n",
    "plt.show()"
   ]
  },
  {
   "cell_type": "markdown",
   "metadata": {},
   "source": [
    "# 4.1) Construct a probabilistic two-class classification target function"
   ]
  },
  {
   "cell_type": "code",
   "execution_count": 131,
   "metadata": {},
   "outputs": [],
   "source": [
    "class TargetF:\n",
    "    def __init__(self, mean, covariance, n, label):\n",
    "        self.mean = mean\n",
    "        self.covariance = covariance\n",
    "        self.n = n\n",
    "        self.label = label\n",
    "        np.random.seed(85)\n",
    "    \n",
    "    def make_points(self):\n",
    "        return np.random.multivariate_normal(self.mean, self.covariance)\n",
    "    \n",
    "    def probability(self, X):\n",
    "        return multivariate_normal.pdf(X[0], mean = self.mean, cov = self.covariance)\n",
    "    \n",
    "\n",
    "def generate_target_function(n, label):\n",
    "    m = mean(n)\n",
    "    cov = covariance(n)\n",
    "    return TargetF(m, cov, n, label)\n",
    "    \n",
    "def generate_X_dataset(prior_pr, num_samples, target0, target1):\n",
    "    vals = np.random.uniform(low=0.0, high=1.0, size=num_samples)\n",
    "    class0 = []\n",
    "    class1 = []\n",
    "    for val in vals:\n",
    "        if val <= prior_pr:\n",
    "            class0.append(target0.make_points())\n",
    "        else:\n",
    "            class1.append(target1.make_points())\n",
    "    return np.asarray(class0), np.asarray(class1)    \n",
    "    \n",
    "def bayes_error(X, labels, target0, pr0, target1):\n",
    "    error = 0;\n",
    "    for x, y in zip(X, labels):\n",
    "        if y != target0.label:\n",
    "            error += target0.probability(x)*(1-pr0)\n",
    "        else:\n",
    "            error += target1.probability(x)*pr0\n",
    "    return error\n",
    "    \n",
    "    \n",
    "def dataset_with_labels(class0, label0, class1, label1):\n",
    "    data0 = np.insert(class0, 0, label0, axis = 1)\n",
    "    data1 = np.insert(class1, 0, label1, axis = 1)\n",
    "    whole_dataset = np.concatenate((data0, data1), axis = 0)\n",
    "    np.random.shuffle(whole_dataset)\n",
    "        \n",
    "    x = whole_dataset[:, 1 :]\n",
    "    y = whole_dataset[:, 0]\n",
    "    \n",
    "    return x, y\n",
    "\n",
    "# dataset with instrances and labels\n",
    "def test_dataset(pr, n, target0, target1):\n",
    "    class0, class1 = generate_X_dataset(pr, n, target0, target1)\n",
    "    return dataset_with_labels(class0, target0.label, class1, target1.label)"
   ]
  },
  {
   "cell_type": "code",
   "execution_count": 132,
   "metadata": {},
   "outputs": [],
   "source": [
    "def mean(n):\n",
    "    return np.random.random_sample(n)\n",
    "\n",
    "def covariance(n):\n",
    "    vals = []\n",
    "    vals = np.random.random_sample((n, n))\n",
    "    cov_matrix = np.dot(vals, vals.transpose())\n",
    "    return cov_matrix"
   ]
  },
  {
   "cell_type": "code",
   "execution_count": 133,
   "metadata": {},
   "outputs": [
    {
     "name": "stdout",
     "output_type": "stream",
     "text": [
      "This is bayes error rate: 1.2224012877448268e-17\n"
     ]
    }
   ],
   "source": [
    "if __name__=='__main__':\n",
    "    pr = 0.5\n",
    "    nSamples = dataset_io.shape[0]\n",
    "    #print(nSamples)\n",
    "    nFeatures = dataset_io.shape[1] - 1\n",
    "    \n",
    "\n",
    "    mean0 = mean(nFeatures)\n",
    "    cov0 = covariance(nFeatures)\n",
    "    target_function0 = TargetF(mean0, cov0, nFeatures, 0)\n",
    "\n",
    "    mean1 = mean(nFeatures)\n",
    "    cov1 = covariance(nFeatures)\n",
    "    target_function1 = TargetF(mean1, cov1, nFeatures, 1)\n",
    "\n",
    "    class0, class1 = generate_X_dataset(pr, nSamples, target_function0, target_function1)\n",
    "    #print(class0.shape)\n",
    "    #print(class1.shape)\n",
    "\n",
    "    X, y = dataset_with_labels(class0, 0, class1, 1)\n",
    "    #print(X.shape)\n",
    "    #print(y.shape)\n",
    "    \n",
    "    bayes_error_rate = bayes_error(X, y, target_function0, pr, target_function1)\n",
    "    print('This is bayes error rate: {0}'.format(bayes_error_rate))"
   ]
  },
  {
   "cell_type": "markdown",
   "metadata": {},
   "source": [
    "# Testing the dataset by using k-NN"
   ]
  },
  {
   "cell_type": "code",
   "execution_count": 134,
   "metadata": {},
   "outputs": [
    {
     "data": {
      "text/plain": [
       "0.19658119658119655"
      ]
     },
     "execution_count": 134,
     "metadata": {},
     "output_type": "execute_result"
    }
   ],
   "source": [
    "cross_validation_prediction(X, y, 1, 'classify', 'knn', 'manhattan')"
   ]
  },
  {
   "cell_type": "code",
   "execution_count": 135,
   "metadata": {},
   "outputs": [
    {
     "data": {
      "text/plain": [
       "0.18518518518518523"
      ]
     },
     "execution_count": 135,
     "metadata": {},
     "output_type": "execute_result"
    }
   ],
   "source": [
    "cross_validation_prediction(X, y, 1, 'classify', 'knn', 'euclidean')"
   ]
  },
  {
   "cell_type": "code",
   "execution_count": 136,
   "metadata": {},
   "outputs": [
    {
     "data": {
      "text/plain": [
       "0.21082621082621078"
      ]
     },
     "execution_count": 136,
     "metadata": {},
     "output_type": "execute_result"
    }
   ],
   "source": [
    "cross_validation_prediction(X, y, 9, 'classify', 'knn', 'manhattan')"
   ]
  },
  {
   "cell_type": "code",
   "execution_count": 137,
   "metadata": {},
   "outputs": [
    {
     "data": {
      "text/plain": [
       "0.17948717948717952"
      ]
     },
     "execution_count": 137,
     "metadata": {},
     "output_type": "execute_result"
    }
   ],
   "source": [
    "cross_validation_prediction(X, y, 9, 'classify', 'knn', 'euclidean')"
   ]
  },
  {
   "cell_type": "code",
   "execution_count": 138,
   "metadata": {},
   "outputs": [
    {
     "data": {
      "text/plain": [
       "0.33618233618233617"
      ]
     },
     "execution_count": 138,
     "metadata": {},
     "output_type": "execute_result"
    }
   ],
   "source": [
    "cross_validation_prediction(X, y, 27, 'classify', 'knn', 'manhattan')"
   ]
  },
  {
   "cell_type": "code",
   "execution_count": 139,
   "metadata": {},
   "outputs": [
    {
     "data": {
      "text/plain": [
       "0.27350427350427353"
      ]
     },
     "execution_count": 139,
     "metadata": {},
     "output_type": "execute_result"
    }
   ],
   "source": [
    "cross_validation_prediction(X, y, 27, 'classify', 'knn', 'euclidean')"
   ]
  },
  {
   "cell_type": "code",
   "execution_count": 140,
   "metadata": {},
   "outputs": [
    {
     "data": {
      "text/plain": [
       "0.44729344729344733"
      ]
     },
     "execution_count": 140,
     "metadata": {},
     "output_type": "execute_result"
    }
   ],
   "source": [
    "cross_validation_prediction(X, y, 81, 'classify', 'knn', 'manhattan')"
   ]
  },
  {
   "cell_type": "code",
   "execution_count": 141,
   "metadata": {},
   "outputs": [
    {
     "data": {
      "text/plain": [
       "0.4330484330484331"
      ]
     },
     "execution_count": 141,
     "metadata": {},
     "output_type": "execute_result"
    }
   ],
   "source": [
    "cross_validation_prediction(X, y, 81, 'classify', 'knn', 'euclidean')"
   ]
  },
  {
   "cell_type": "markdown",
   "metadata": {},
   "source": [
    "# Testing the dataset by using w-NN"
   ]
  },
  {
   "cell_type": "code",
   "execution_count": 142,
   "metadata": {},
   "outputs": [
    {
     "data": {
      "text/plain": [
       "0.19658119658119655"
      ]
     },
     "execution_count": 142,
     "metadata": {},
     "output_type": "execute_result"
    }
   ],
   "source": [
    "cross_validation_prediction(X, y, 1, 'classify', 'wnn', 'manhattan')"
   ]
  },
  {
   "cell_type": "code",
   "execution_count": 143,
   "metadata": {},
   "outputs": [
    {
     "data": {
      "text/plain": [
       "0.18518518518518523"
      ]
     },
     "execution_count": 143,
     "metadata": {},
     "output_type": "execute_result"
    }
   ],
   "source": [
    "cross_validation_prediction(X, y, 1, 'classify', 'wnn', 'euclidean')"
   ]
  },
  {
   "cell_type": "code",
   "execution_count": 144,
   "metadata": {},
   "outputs": [
    {
     "data": {
      "text/plain": [
       "0.19373219373219375"
      ]
     },
     "execution_count": 144,
     "metadata": {},
     "output_type": "execute_result"
    }
   ],
   "source": [
    "cross_validation_prediction(X, y, 9, 'classify', 'wnn', 'manhattan')"
   ]
  },
  {
   "cell_type": "code",
   "execution_count": 145,
   "metadata": {},
   "outputs": [
    {
     "data": {
      "text/plain": [
       "0.1737891737891738"
      ]
     },
     "execution_count": 145,
     "metadata": {},
     "output_type": "execute_result"
    }
   ],
   "source": [
    "cross_validation_prediction(X, y, 9, 'classify', 'wnn', 'euclidean')"
   ]
  },
  {
   "cell_type": "code",
   "execution_count": 146,
   "metadata": {},
   "outputs": [
    {
     "data": {
      "text/plain": [
       "0.27350427350427353"
      ]
     },
     "execution_count": 146,
     "metadata": {},
     "output_type": "execute_result"
    }
   ],
   "source": [
    "cross_validation_prediction(X, y, 27, 'classify', 'wnn', 'manhattan')"
   ]
  },
  {
   "cell_type": "code",
   "execution_count": 147,
   "metadata": {},
   "outputs": [
    {
     "data": {
      "text/plain": [
       "0.2136752136752137"
      ]
     },
     "execution_count": 147,
     "metadata": {},
     "output_type": "execute_result"
    }
   ],
   "source": [
    "cross_validation_prediction(X, y, 27, 'classify', 'wnn', 'euclidean')"
   ]
  },
  {
   "cell_type": "code",
   "execution_count": 148,
   "metadata": {},
   "outputs": [
    {
     "data": {
      "text/plain": [
       "0.33618233618233617"
      ]
     },
     "execution_count": 148,
     "metadata": {},
     "output_type": "execute_result"
    }
   ],
   "source": [
    "cross_validation_prediction(X, y, 81, 'classify', 'wnn', 'manhattan')"
   ]
  },
  {
   "cell_type": "code",
   "execution_count": 149,
   "metadata": {},
   "outputs": [
    {
     "data": {
      "text/plain": [
       "0.301994301994302"
      ]
     },
     "execution_count": 149,
     "metadata": {},
     "output_type": "execute_result"
    }
   ],
   "source": [
    "cross_validation_prediction(X, y, 81, 'classify', 'wnn', 'euclidean')"
   ]
  }
 ],
 "metadata": {
  "kernelspec": {
   "display_name": "Python 3",
   "language": "python",
   "name": "python3"
  },
  "language_info": {
   "codemirror_mode": {
    "name": "ipython",
    "version": 3
   },
   "file_extension": ".py",
   "mimetype": "text/x-python",
   "name": "python",
   "nbconvert_exporter": "python",
   "pygments_lexer": "ipython3",
   "version": "3.7.3"
  }
 },
 "nbformat": 4,
 "nbformat_minor": 2
}
